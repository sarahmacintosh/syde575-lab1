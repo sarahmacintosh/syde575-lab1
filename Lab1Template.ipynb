{
 "cells": [
  {
   "cell_type": "code",
   "execution_count": 1,
   "id": "f412da18-a698-4791-afb1-f854f11e77d7",
   "metadata": {},
   "outputs": [],
   "source": [
    "from skimage.color import rgb2gray\n",
    "import skimage.transform\n",
    "import numpy as np\n",
    "import matplotlib.pyplot as plt\n",
    "from skimage.io import imread\n",
    "import skimage.exposure"
   ]
  },
  {
   "cell_type": "code",
   "execution_count": 2,
   "id": "eacf19d0-2d03-45f6-8e1e-7409288735b7",
   "metadata": {},
   "outputs": [
    {
     "data": {
      "text/plain": [
       "<Figure size 640x480 with 0 Axes>"
      ]
     },
     "metadata": {},
     "output_type": "display_data"
    }
   ],
   "source": [
    "plt.gray() # makes image plots grayscale\n",
    "\n",
    "lena = rgb2gray(imread('lena.tiff')) *255\n",
    "cameraman = imread('cameraman.tif').astype(np.float64)\n",
    "tire = imread('tire.tif').astype(np.float64) / 255.0\n",
    "\n",
    "# plt.imshow(lena)\n"
   ]
  },
  {
   "cell_type": "code",
   "execution_count": 3,
   "id": "377330cb-6aae-450c-9022-2c4f80900321",
   "metadata": {},
   "outputs": [
    {
     "name": "stdout",
     "output_type": "stream",
     "text": [
      "0.0\n",
      "inf\n"
     ]
    },
    {
     "name": "stderr",
     "output_type": "stream",
     "text": [
      "/var/folders/g2/xzgpr9fx6_5cvvl_x157b4qh0000gp/T/ipykernel_1038/1156123148.py:19: RuntimeWarning: divide by zero encountered in scalar divide\n",
      "  log_int = (MAX_f**2)/(mse(f, g))\n"
     ]
    }
   ],
   "source": [
    "#sarah notes for PSNR\n",
    "\n",
    "#input images\n",
    "# np.sum\n",
    "a = lena\n",
    "b = lena\n",
    "\n",
    "# cooper mse func\n",
    "def mse(f, g):\n",
    "#mse\n",
    "\terror = np.sum((f.astype(np.float64) - g.astype(np.float64)) ** 2)\n",
    "\terror /= float(f.shape[0] * g.shape[1])\n",
    "\t#return MSE\n",
    "\treturn error\n",
    "\n",
    "# cooper psnr func\n",
    "def psnr(f, g):\n",
    "\tMAX_f = 255.0\n",
    "\tlog = np.log10((MAX_f**2)/(mse(f, g)))\n",
    "\tPSNR_out = 10*log\n",
    "\treturn PSNR_out\n",
    "\n",
    "\n",
    "print(mse(a, b))\n",
    "print(psnr(a,b))\n",
    "\n",
    "# COOPERS NOTE: this seems to work now\n"
   ]
  },
  {
   "cell_type": "code",
   "execution_count": 4,
   "id": "fa6a8926",
   "metadata": {},
   "outputs": [
    {
     "data": {
      "text/plain": [
       "<matplotlib.image.AxesImage at 0x123c74590>"
      ]
     },
     "execution_count": 4,
     "metadata": {},
     "output_type": "execute_result"
    },
    {
     "data": {
      "image/png": "[encoded data removed]",
      "text/plain": [
       "<Figure size 640x480 with 1 Axes>"
      ]
     },
     "metadata": {},
     "output_type": "display_data"
    }
   ],
   "source": [
    "# pt 3: digital zooming\n",
    "\n",
    "# load lena and cameraman and convert to grayscale\n",
    "lena = rgb2gray(imread('lena.tiff'))\n",
    "cameraman = imread('cameraman.tif') #don't need rgb2gray since image is black and white\n",
    "\n",
    "#NOTE 1: cameraman is already b&w so it gets cranky when you try to convert to \n",
    "# grayscale since the channel data for colours is gone. \n",
    "# It seems to work now. Tire is also b&w for future ref.\n",
    "# old: cameraman = rgb2gray(imread('cameraman.tif')[:,:3]) \n",
    "\n",
    "\n",
    "# reduce the resolution of the images by a factor of 4 in both the horizontal \n",
    "# and vertical direction using bilinear interpolation. Plot the down-sampled images\n",
    "lena_ds = skimage.transform.rescale(lena.astype(np.float64), 0.25)\n",
    "cameraman_ds = skimage.transform.rescale(cameraman.astype(np.float64), 0.25) # broken, see Note 1\n",
    "\n",
    "plt.imshow(lena_ds)\n",
    "plt.imshow(cameraman_ds)\n",
    "\n",
    "# perform digital zooming to increase the resolution of \n",
    "# the down-sampled image back to the resolution of the original images using nni, bli, bci\n",
    "\n",
    "#nni\n",
    "\n",
    "\n",
    "\n",
    "#lena_us_nni = \n",
    "#cameraman_us_nni = \n",
    "\n",
    "#bli\n",
    "\n",
    "#lena_us_bli = \n",
    "#cameraman_us_bli = \n",
    "\n",
    "#bci\n",
    "\n",
    "#lena_us_bci = \n",
    "#cameraman_us_bci = \n",
    "\n",
    "# plot the up-sample images, compute the PSNR between the originals and up-sampled\n",
    "\n",
    "#print(psnr(lena,lena_nni))\n",
    "#print(psnr(cameraman,cameraman_nni))"
   ]
  }
 ],
 "metadata": {
  "kernelspec": {
   "display_name": "syde575",
   "language": "python",
   "name": "python3"
  },
  "language_info": {
   "codemirror_mode": {
    "name": "ipython",
    "version": 3
   },
   "file_extension": ".py",
   "mimetype": "text/x-python",
   "name": "python",
   "nbconvert_exporter": "python",
   "pygments_lexer": "ipython3",
   "version": "3.11.5"
  },
  "vscode": {
   "interpreter": {
    "hash": "7e8ed6e449bcde83c21d48f51e6052bfe1907aaed8ef8780392022bac60f4719"
   }
  }
 },
 "nbformat": 4,
 "nbformat_minor": 5
}
