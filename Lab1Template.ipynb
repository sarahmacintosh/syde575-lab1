{
 "cells": [
  {
   "cell_type": "code",
   "execution_count": 1,
   "id": "f412da18-a698-4791-afb1-f854f11e77d7",
   "metadata": {},
   "outputs": [],
   "source": [
    "from skimage.color import rgb2gray\n",
    "import skimage.transform\n",
    "import numpy as np\n",
    "import matplotlib.pyplot as plt\n",
    "from skimage.io import imread\n",
    "import skimage.exposure"
   ]
  },
  {
   "cell_type": "code",
   "execution_count": 2,
   "id": "eacf19d0-2d03-45f6-8e1e-7409288735b7",
   "metadata": {},
   "outputs": [
    {
     "data": {
      "text/plain": [
       "<Figure size 640x480 with 0 Axes>"
      ]
     },
     "metadata": {},
     "output_type": "display_data"
    }
   ],
   "source": [
    "plt.gray() # makes image plots grayscale\n",
    "\n",
    "lena = rgb2gray(imread('lena.tiff')) *255\n",
    "cameraman = imread('cameraman.tif').astype(np.float64)\n",
    "tire = imread('tire.tif').astype(np.float64) / 255.0\n"
   ]
  },
  {
   "cell_type": "code",
   "execution_count": 3,
   "id": "377330cb-6aae-450c-9022-2c4f80900321",
   "metadata": {},
   "outputs": [
    {
     "ename": "SyntaxError",
     "evalue": "invalid syntax (3206119103.py, line 3)",
     "output_type": "error",
     "traceback": [
      "\u001b[0;36m  Cell \u001b[0;32mIn[3], line 3\u001b[0;36m\u001b[0m\n\u001b[0;31m    f =\u001b[0m\n\u001b[0m        ^\u001b[0m\n\u001b[0;31mSyntaxError\u001b[0m\u001b[0;31m:\u001b[0m invalid syntax\n"
     ]
    }
   ],
   "source": [
    "#sarah notes for PSNR\n",
    "\n",
    "#input images\n",
    "# np.sum\n",
    "f = lena\n",
    "g = lena\n",
    "f.astype(np.float64)\n",
    "g.astype(np.float64)\n",
    "\n",
    "#mse calculation TO DO\n",
    "MSE = \n",
    "\n",
    "#PSNR function DEBUG\n",
    "MAX_f = 255.0\n",
    "log_int = MAX_f^2/MSE\n",
    "log = np.log((log_int),10)\n",
    "PSNR_out = 10*log\n",
    "\n"
   ]
  }
 ],
 "metadata": {
  "kernelspec": {
   "display_name": "syde575",
   "language": "python",
   "name": "python3"
  },
  "language_info": {
   "codemirror_mode": {
    "name": "ipython",
    "version": 3
   },
   "file_extension": ".py",
   "mimetype": "text/x-python",
   "name": "python",
   "nbconvert_exporter": "python",
   "pygments_lexer": "ipython3",
   "version": "3.11.5"
  },
  "vscode": {
   "interpreter": {
    "hash": "7e8ed6e449bcde83c21d48f51e6052bfe1907aaed8ef8780392022bac60f4719"
   }
  }
 },
 "nbformat": 4,
 "nbformat_minor": 5
}
